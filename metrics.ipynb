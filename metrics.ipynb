{
 "cells": [
  {
   "cell_type": "code",
   "execution_count": 1,
   "metadata": {},
   "outputs": [],
   "source": [
    "import numpy as np"
   ]
  },
  {
   "cell_type": "code",
   "execution_count": 2,
   "metadata": {},
   "outputs": [
    {
     "data": {
      "text/plain": [
       "'\\ny_true = [\\n    [1, 3, 1, 0],\\n    [1, 3, 1, 0],\\n    [1, 3, 1, 0],\\n    [1, 4, 1, 0],\\n    [1, 4, 1, 0],\\n    [1, 4, 1, 0],\\n    [1, 4, 1, 0],\\n    [1, 7, 2, 1],\\n    [1, 7, 2, 1],\\n    [1, 7, 2, 1]\\n]\\n#y_true = np.ravel(y_true)\\ny_true = np.array(y_true)\\ny_true\\n'"
      ]
     },
     "execution_count": 2,
     "metadata": {},
     "output_type": "execute_result"
    }
   ],
   "source": [
    "'''\n",
    "y_true = [\n",
    "    [1, 3, 1, 0],\n",
    "    [1, 3, 1, 0],\n",
    "    [1, 3, 1, 0],\n",
    "    [1, 4, 1, 0],\n",
    "    [1, 4, 1, 0],\n",
    "    [1, 4, 1, 0],\n",
    "    [1, 4, 1, 0],\n",
    "    [1, 7, 2, 1],\n",
    "    [1, 7, 2, 1],\n",
    "    [1, 7, 2, 1]\n",
    "]\n",
    "#y_true = np.ravel(y_true)\n",
    "y_true = np.array(y_true)\n",
    "y_true\n",
    "'''"
   ]
  },
  {
   "cell_type": "code",
   "execution_count": 3,
   "metadata": {},
   "outputs": [
    {
     "data": {
      "text/plain": [
       "'\\ny_pred = [\\n    [1, 4, 0, 0],\\n    [1, 4, 0, 0],\\n    [1, 4, 1, 0],\\n    [1, 4, 1, 0],\\n    [1, 4, 1, 0],\\n    [1, 4, 1, 0],\\n    [1, 4, 1, 0],\\n    [1, 7, 2, 1],\\n    [1, 8, 2, 2],\\n    [1, 8, 2, 2]\\n]\\n#y_pred = np.ravel(y_pred)\\ny_pred = np.array(y_pred)\\ny_pred\\n'"
      ]
     },
     "execution_count": 3,
     "metadata": {},
     "output_type": "execute_result"
    }
   ],
   "source": [
    "'''\n",
    "y_pred = [\n",
    "    [1, 4, 0, 0],\n",
    "    [1, 4, 0, 0],\n",
    "    [1, 4, 1, 0],\n",
    "    [1, 4, 1, 0],\n",
    "    [1, 4, 1, 0],\n",
    "    [1, 4, 1, 0],\n",
    "    [1, 4, 1, 0],\n",
    "    [1, 7, 2, 1],\n",
    "    [1, 8, 2, 2],\n",
    "    [1, 8, 2, 2]\n",
    "]\n",
    "#y_pred = np.ravel(y_pred)\n",
    "y_pred = np.array(y_pred)\n",
    "y_pred\n",
    "'''"
   ]
  },
  {
   "cell_type": "code",
   "execution_count": 4,
   "metadata": {},
   "outputs": [
    {
     "data": {
      "text/plain": [
       "'\\ntp = 0\\nfp = 0\\ntn = 0\\nfn = 0\\nfor i in range(0, len(y_true)):\\n    for j in range(0, 4):\\n        if y_true[i][j] > 0:\\n            if y_true[i][j] >= y_pred[i][j]:\\n                diff = abs(y_true[i][j] - y_pred[i][j])\\n                tp += y_pred[i][j]\\n                fn += diff\\n            else:\\n                diff = abs(y_true[i][j] - y_pred[i][j])\\n                tp += y_true[i][j]\\n                fp += diff\\n        elif y_true[i][j] == 0:\\n            if y_true[i][j] == y_pred[i][j]:\\n                tn += 1\\n            else:\\n                fp += y_pred[i][j]\\n'"
      ]
     },
     "execution_count": 4,
     "metadata": {},
     "output_type": "execute_result"
    }
   ],
   "source": [
    "'''\n",
    "tp = 0\n",
    "fp = 0\n",
    "tn = 0\n",
    "fn = 0\n",
    "for i in range(0, len(y_true)):\n",
    "    for j in range(0, 4):\n",
    "        if y_true[i][j] > 0:\n",
    "            if y_true[i][j] >= y_pred[i][j]:\n",
    "                diff = abs(y_true[i][j] - y_pred[i][j])\n",
    "                tp += y_pred[i][j]\n",
    "                fn += diff\n",
    "            else:\n",
    "                diff = abs(y_true[i][j] - y_pred[i][j])\n",
    "                tp += y_true[i][j]\n",
    "                fp += diff\n",
    "        elif y_true[i][j] == 0:\n",
    "            if y_true[i][j] == y_pred[i][j]:\n",
    "                tn += 1\n",
    "            else:\n",
    "                fp += y_pred[i][j]\n",
    "'''"
   ]
  },
  {
   "cell_type": "code",
   "execution_count": 5,
   "metadata": {},
   "outputs": [
    {
     "data": {
      "text/plain": [
       "73"
      ]
     },
     "execution_count": 5,
     "metadata": {},
     "output_type": "execute_result"
    }
   ],
   "source": [
    "tp_arr = np.array([5, 5, 6, 6, 6, 6, 6, 11, 11, 11])\n",
    "tp = np.sum(tp_arr)\n",
    "tp"
   ]
  },
  {
   "cell_type": "code",
   "execution_count": 6,
   "metadata": {},
   "outputs": [
    {
     "data": {
      "text/plain": [
       "0"
      ]
     },
     "execution_count": 6,
     "metadata": {},
     "output_type": "execute_result"
    }
   ],
   "source": [
    "tn_arr = np.array([0, 0, 0, 0, 0, 0, 0, 0, 0, 0])\n",
    "tn = np.sum(tn_arr)\n",
    "tn"
   ]
  },
  {
   "cell_type": "code",
   "execution_count": 7,
   "metadata": {},
   "outputs": [
    {
     "data": {
      "text/plain": [
       "4"
      ]
     },
     "execution_count": 7,
     "metadata": {},
     "output_type": "execute_result"
    }
   ],
   "source": [
    "fp_arr = np.array([0, 0, 0, 0, 0, 0, 0, 0, 2, 2])\n",
    "fp = np.sum(fp_arr)\n",
    "fp"
   ]
  },
  {
   "cell_type": "code",
   "execution_count": 8,
   "metadata": {},
   "outputs": [
    {
     "data": {
      "text/plain": [
       "2"
      ]
     },
     "execution_count": 8,
     "metadata": {},
     "output_type": "execute_result"
    }
   ],
   "source": [
    "fn_arr = np.array([1, 1, 0, 0, 0, 0, 0, 0, 0, 0])\n",
    "fn = np.sum(fn_arr)\n",
    "fn"
   ]
  },
  {
   "cell_type": "code",
   "execution_count": 9,
   "metadata": {},
   "outputs": [
    {
     "data": {
      "text/plain": [
       "0.9733333333333334"
      ]
     },
     "execution_count": 9,
     "metadata": {},
     "output_type": "execute_result"
    }
   ],
   "source": [
    "tpr = tp/(tp+fn)\n",
    "tpr"
   ]
  },
  {
   "cell_type": "code",
   "execution_count": 10,
   "metadata": {},
   "outputs": [
    {
     "data": {
      "text/plain": [
       "0.0"
      ]
     },
     "execution_count": 10,
     "metadata": {},
     "output_type": "execute_result"
    }
   ],
   "source": [
    "tnr = tn/(tn+fp) \n",
    "tnr"
   ]
  },
  {
   "cell_type": "code",
   "execution_count": 11,
   "metadata": {},
   "outputs": [
    {
     "data": {
      "text/plain": [
       "1.0"
      ]
     },
     "execution_count": 11,
     "metadata": {},
     "output_type": "execute_result"
    }
   ],
   "source": [
    "fpr = fp/(fp+tn)\n",
    "fpr"
   ]
  },
  {
   "cell_type": "code",
   "execution_count": 12,
   "metadata": {},
   "outputs": [
    {
     "data": {
      "text/plain": [
       "0.02666666666666667"
      ]
     },
     "execution_count": 12,
     "metadata": {},
     "output_type": "execute_result"
    }
   ],
   "source": [
    "fnr = fn/(tp+fn)\n",
    "fnr"
   ]
  },
  {
   "cell_type": "code",
   "execution_count": 13,
   "metadata": {},
   "outputs": [
    {
     "data": {
      "text/plain": [
       "0.8795180722891566"
      ]
     },
     "execution_count": 13,
     "metadata": {},
     "output_type": "execute_result"
    }
   ],
   "source": [
    "accuracy = (tp+tn)/(tp+fp+tn+fp)\n",
    "accuracy"
   ]
  },
  {
   "cell_type": "code",
   "execution_count": 14,
   "metadata": {},
   "outputs": [
    {
     "data": {
      "text/plain": [
       "0.948051948051948"
      ]
     },
     "execution_count": 14,
     "metadata": {},
     "output_type": "execute_result"
    }
   ],
   "source": [
    "precision = tp/(tp+fp)\n",
    "precision"
   ]
  },
  {
   "cell_type": "code",
   "execution_count": 15,
   "metadata": {},
   "outputs": [
    {
     "data": {
      "text/plain": [
       "0.9733333333333334"
      ]
     },
     "execution_count": 15,
     "metadata": {},
     "output_type": "execute_result"
    }
   ],
   "source": [
    "recall = tp/(tp+fn)\n",
    "recall"
   ]
  },
  {
   "cell_type": "code",
   "execution_count": 16,
   "metadata": {},
   "outputs": [
    {
     "data": {
      "text/plain": [
       "0.9605263157894737"
      ]
     },
     "execution_count": 16,
     "metadata": {},
     "output_type": "execute_result"
    }
   ],
   "source": [
    "f1 = (2*precision*recall)/(precision+recall)\n",
    "f1"
   ]
  }
 ],
 "metadata": {
  "kernelspec": {
   "display_name": "Python 3 (ipykernel)",
   "language": "python",
   "name": "python3"
  },
  "language_info": {
   "codemirror_mode": {
    "name": "ipython",
    "version": 3
   },
   "file_extension": ".py",
   "mimetype": "text/x-python",
   "name": "python",
   "nbconvert_exporter": "python",
   "pygments_lexer": "ipython3",
   "version": "3.11.4"
  }
 },
 "nbformat": 4,
 "nbformat_minor": 4
}
